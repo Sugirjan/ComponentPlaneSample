{
 "cells": [
  {
   "cell_type": "code",
   "execution_count": 4,
   "metadata": {},
   "outputs": [
    {
     "name": "stdout",
     "output_type": "stream",
     "text": [
      "Data loaded\n",
      "Data sample: [5.  2.3 3.3 1. ]\n",
      "Target class: 2\n"
     ]
    }
   ],
   "source": [
    "import numpy as np\n",
    "import math\n",
    "import random\n",
    "\n",
    "patterns = []\n",
    "classes = []\n",
    "\n",
    "filename = 'iris.txt'\n",
    "file = open(filename,'r')\n",
    "\n",
    "for line in file.readlines():\n",
    "    row = line.strip().split(',')\n",
    "    patterns.append(row[0:4])\n",
    "    classes.append(row[4])\n",
    "print(\"Data loaded\")\n",
    "file.close\n",
    "\n",
    "patterns = np.asarray(patterns,dtype=np.float32)\n",
    "\n",
    "sample_no = np.random.randint(0,len(patterns))\n",
    "\n",
    "print(\"Data sample: \" + str(patterns[int(sample_no)]))\n",
    "print(\"Target class: \" + str(classes[int(sample_no)]))\n"
   ]
  },
  {
   "cell_type": "code",
   "execution_count": 5,
   "metadata": {},
   "outputs": [
    {
     "name": "stdout",
     "output_type": "stream",
     "text": [
      "Heuristically computed appropriate no. of map units: 304\n"
     ]
    }
   ],
   "source": [
    "#A heuristic formula for calculating no. of map units\n",
    "\n",
    "def mapunits(input_len,size='small'):\n",
    "    \n",
    "    heuristic_map_units = 5*input_len**0.54321\n",
    "     \n",
    "    if size == 'big':\n",
    "        heuristic_map_units = 4 * (heuristic_map_units)\n",
    "    else:\n",
    "        heuristic_map_units = 0.25 * (heuristic_map_units)\n",
    "        \n",
    "    return heuristic_map_units\n",
    "        \n",
    "        \n",
    "map_units = mapunits(len(patterns), size='big')\n",
    "print(\"Heuristically computed appropriate no. of map units: \"+str(int(map_units)))\n",
    "\n",
    "#For reference purpose only - however this function can be used to automatically calculate the SOM dimensions\n",
    "#from data length. I will still be specifying the SOM dimensions manually, anyway."
   ]
  },
  {
   "cell_type": "code",
   "execution_count": 6,
   "metadata": {},
   "outputs": [
    {
     "name": "stdout",
     "output_type": "stream",
     "text": [
      "Lower error found: 0.9122726966040825 at epoch: 7\n",
      "\tLearning rate: 0.0993\n",
      "\tNeighbourhood radius: 9.930244429332351\n",
      "Lower error found: 0.6594368424265248 at epoch: 19\n",
      "\tLearning rate: 0.0981\n",
      "\tNeighbourhood radius: 9.811793622428059\n",
      "Lower error found: 0.5939722166828934 at epoch: 39\n",
      "\tLearning rate: 0.0961\n",
      "\tNeighbourhood radius: 9.617507091463667\n",
      "Lower error found: 0.37885432153880955 at epoch: 57\n",
      "\tLearning rate: 0.0943\n",
      "\tNeighbourhood radius: 9.445940693665234\n",
      "Lower error found: 0.3308128955002573 at epoch: 218\n",
      "\tLearning rate: 0.0782\n",
      "\tNeighbourhood radius: 8.041254416665597\n",
      "Lower error found: 0.2532298278051834 at epoch: 270\n",
      "\tLearning rate: 0.073\n",
      "\tNeighbourhood radius: 7.633794943368532\n",
      "Lower error found: 0.24928329802286997 at epoch: 280\n",
      "\tLearning rate: 0.072\n",
      "\tNeighbourhood radius: 7.557837414557254\n",
      "Lower error found: 0.16453448085967218 at epoch: 357\n",
      "\tLearning rate: 0.06430000000000001\n",
      "\tNeighbourhood radius: 6.9977249773461105\n",
      "Lower error found: 0.16352508518107348 at epoch: 421\n",
      "\tLearning rate: 0.0579\n",
      "\tNeighbourhood radius: 6.563901014091712\n",
      "Lower error found: 0.12618816438720273 at epoch: 459\n",
      "\tLearning rate: 0.054099999999999995\n",
      "\tNeighbourhood radius: 6.319152448994959\n",
      "Lower error found: 0.10743611448544547 at epoch: 579\n",
      "\tLearning rate: 0.042100000000000005\n",
      "\tNeighbourhood radius: 5.604585449744905\n",
      "Lower error found: 0.08355304298949115 at epoch: 593\n",
      "\tLearning rate: 0.04070000000000001\n",
      "\tNeighbourhood radius: 5.526667948604818\n",
      "Lower error found: 0.082147547345603 at epoch: 634\n",
      "\tLearning rate: 0.0366\n",
      "\tNeighbourhood radius: 5.304656888619749\n",
      "Lower error found: 0.06387261554383832 at epoch: 653\n",
      "\tLearning rate: 0.0347\n",
      "\tNeighbourhood radius: 5.204819862892832\n",
      "Lower error found: 0.05289928774770517 at epoch: 695\n",
      "\tLearning rate: 0.030500000000000006\n",
      "\tNeighbourhood radius: 4.99074447985136\n",
      "Lower error found: 0.051765160579270005 at epoch: 713\n",
      "\tLearning rate: 0.028700000000000003\n",
      "\tNeighbourhood radius: 4.901714750567302\n",
      "Lower error found: 0.04081520130375481 at epoch: 732\n",
      "\tLearning rate: 0.026800000000000004\n",
      "\tNeighbourhood radius: 4.80946135285778\n",
      "Lower error found: 0.0351247003137341 at epoch: 736\n",
      "\tLearning rate: 0.026400000000000003\n",
      "\tNeighbourhood radius: 4.790261931887511\n",
      "Lower error found: 0.03298198073281391 at epoch: 773\n",
      "\tLearning rate: 0.022699999999999998\n",
      "\tNeighbourhood radius: 4.616261105831047\n",
      "Lower error found: 0.03268935604738897 at epoch: 839\n",
      "\tLearning rate: 0.016100000000000003\n",
      "\tNeighbourhood radius: 4.321424498797403\n",
      "Lower error found: 0.0306046381371465 at epoch: 841\n",
      "\tLearning rate: 0.015900000000000004\n",
      "\tNeighbourhood radius: 4.312790286889785\n",
      "Lower error found: 0.027709179279857995 at epoch: 866\n",
      "\tLearning rate: 0.013400000000000002\n",
      "\tNeighbourhood radius: 4.206307115303124\n",
      "Lower error found: 0.020234840503351854 at epoch: 874\n",
      "\tLearning rate: 0.0126\n",
      "\tNeighbourhood radius: 4.172790901986911\n",
      "Lower error found: 0.015564616173088 at epoch: 881\n",
      "\tLearning rate: 0.0119\n",
      "\tNeighbourhood radius: 4.143683360922425\n",
      "Lower error found: 0.014598304708182996 at epoch: 892\n",
      "\tLearning rate: 0.010799999999999999\n",
      "\tNeighbourhood radius: 4.09835262011079\n",
      "Lower error found: 0.012866491973082953 at epoch: 921\n",
      "\tLearning rate: 0.007899999999999996\n",
      "\tNeighbourhood radius: 3.9812072123654696\n",
      "Lower error found: 0.011008132909743078 at epoch: 951\n",
      "\tLearning rate: 0.004900000000000005\n",
      "\tNeighbourhood radius: 3.8635447573711774\n",
      "Lower error found: 0.010806920094578454 at epoch: 958\n",
      "\tLearning rate: 0.004200000000000004\n",
      "\tNeighbourhood radius: 3.836594380436134\n",
      "Lower error found: 0.00687019922660658 at epoch: 959\n",
      "\tLearning rate: 0.004100000000000004\n",
      "\tNeighbourhood radius: 3.8327597037136156\n",
      "Lower error found: 0.005114284900951807 at epoch: 965\n",
      "\tLearning rate: 0.003500000000000003\n",
      "\tNeighbourhood radius: 3.8098319973933723\n",
      "Lower error found: 0.004715857398537196 at epoch: 968\n",
      "\tLearning rate: 0.003200000000000003\n",
      "\tNeighbourhood radius: 3.7984196285137872\n",
      "Lower error found: 0.004550376637238824 at epoch: 971\n",
      "\tLearning rate: 0.002900000000000003\n",
      "\tNeighbourhood radius: 3.787041445436498\n",
      "Lower error found: 0.00419086630639672 at epoch: 980\n",
      "\tLearning rate: 0.0020000000000000018\n",
      "\tNeighbourhood radius: 3.7531109885139955\n",
      "Lower error found: 0.002628988045512533 at epoch: 983\n",
      "\tLearning rate: 0.0017000000000000016\n",
      "\tNeighbourhood radius: 3.7418685276715613\n",
      "Lower error found: 0.001631780174209385 at epoch: 987\n",
      "\tLearning rate: 0.0013000000000000012\n",
      "\tNeighbourhood radius: 3.726930948635714\n",
      "Lower error found: 0.001601220570272426 at epoch: 989\n",
      "\tLearning rate: 0.001100000000000001\n",
      "\tNeighbourhood radius: 3.719484535633582\n",
      "Lower error found: 0.0009907128305408318 at epoch: 991\n",
      "\tLearning rate: 0.0009000000000000008\n",
      "\tNeighbourhood radius: 3.7120530005745516\n"
     ]
    }
   ],
   "source": [
    "import matplotlib.pyplot as plt\n",
    "%matplotlib inline\n",
    "\n",
    "input_dimensions = 4\n",
    "map_width = 20\n",
    "map_height = 20\n",
    "MAP = np.random.uniform(size=(map_height,map_width,input_dimensions))\n",
    "prev_MAP = np.zeros((map_height,map_width,input_dimensions))\n",
    "\n",
    "radius0 = max(map_width,map_height)/2\n",
    "\n",
    "coordinate_map = np.zeros([map_height,map_width,2],dtype=np.int32)\n",
    "\n",
    "for i in range(0,map_height):\n",
    "    for j in range(0,map_width):\n",
    "        coordinate_map[i][j] = [i,j]\n",
    "\n",
    "learning_rate0 = 0.1\n",
    "radius=radius0\n",
    "learning_rate = learning_rate0\n",
    "max_iterations = len(patterns) + 1\n",
    "too_many_iterations = 10 * max_iterations\n",
    "\n",
    "convergence = [1]\n",
    "timestep=1\n",
    "e=0.001 \n",
    "flag=0\n",
    "epoch=0\n",
    "epochs = 1000\n",
    "\n",
    "while epoch<epochs:\n",
    "    \n",
    "    shuffle = np.random.randint(len(patterns), size=len(patterns))\n",
    "    for i in range(len(patterns)):\n",
    "        \n",
    "        # difference between prev_MAP and MAP\n",
    "        J = np.linalg.norm(MAP - prev_MAP)\n",
    "        # J = || euclidean distance between previous MAP and current MAP  ||\n",
    "\n",
    "        if  J <= e: #if converged (convergence criteria)\n",
    "            flag=1\n",
    "            break\n",
    "            \n",
    "        else:\n",
    "            \n",
    "            pattern = patterns[shuffle[i]]\n",
    "            pattern_ary = np.tile(pattern, (map_height, map_width, 1))\n",
    "            Eucli_MAP = np.linalg.norm(pattern_ary - MAP, axis=2)\n",
    "            \n",
    "            # Get the best matching unit(BMU) which is the one with the smallest Euclidean distance\n",
    "            BMU = np.unravel_index(np.argmin(Eucli_MAP, axis=None), Eucli_MAP.shape)\n",
    "            \n",
    "            prev_MAP = np.copy(MAP)\n",
    "             \n",
    "            for i in range(map_height):\n",
    "                for j in range(map_width):\n",
    "                    distance = np.linalg.norm([i - BMU[0], j - BMU[1]])\n",
    "                    if distance <= radius:\n",
    "                        MAP[i][j] = MAP[i][j] + learning_rate*(pattern-MAP[i][j])\n",
    "            \n",
    "            learning_rate = learning_rate0*(1-(epoch/epochs))\n",
    "            radius = radius0*math.exp(-epoch/epochs)\n",
    "            \n",
    "            timestep+=1\n",
    "    \n",
    "    if J < min(convergence):\n",
    "        print('Lower error found: %s' %str(J) + ' at epoch: %s' % str(epoch))\n",
    "        print('\\tLearning rate: ' + str(learning_rate))\n",
    "        print('\\tNeighbourhood radius: ' + str(radius))\n",
    "        MAP_final = MAP\n",
    "    convergence.append(J)\n",
    "    \n",
    "    if flag==1:\n",
    "        break\n",
    "    epoch+=1"
   ]
  },
  {
   "cell_type": "code",
   "execution_count": 7,
   "metadata": {},
   "outputs": [
    {
     "data": {
      "image/png": "[encoded data removed]",
      "text/plain": [
       "<Figure size 432x288 with 1 Axes>"
      ]
     },
     "metadata": {
      "needs_background": "light"
     },
     "output_type": "display_data"
    },
    {
     "name": "stdout",
     "output_type": "stream",
     "text": [
      "Number of timesteps: 148677\n",
      "Final error: 0.0009907128305408318\n"
     ]
    }
   ],
   "source": [
    "# Show a plot of the error at each epoch to show convergence, but this is guaranteed in SOM\n",
    "# due to the learning rate and neighbourhood decay\n",
    "plt.plot(convergence)\n",
    "plt.ylabel('error')\n",
    "plt.xlabel('epoch')\n",
    "plt.grid(True)\n",
    "plt.yscale('log')\n",
    "plt.show()\n",
    "print('Number of timesteps: ' + str(timestep))\n",
    "print('Final error: ' + str(J))"
   ]
  },
  {
   "cell_type": "code",
   "execution_count": 8,
   "metadata": {},
   "outputs": [
    {
     "name": "stdout",
     "output_type": "stream",
     "text": [
      "Red = 1\n",
      "Green = 2\n",
      "Blue = 3\n"
     ]
    },
    {
     "data": {
      "text/plain": [
       "<matplotlib.image.AxesImage at 0x207647cfb48>"
      ]
     },
     "execution_count": 8,
     "metadata": {},
     "output_type": "execute_result"
    },
    {
     "data": {
      "image/png": "[encoded data removed]",
      "text/plain": [
       "<Figure size 432x288 with 1 Axes>"
      ]
     },
     "metadata": {
      "needs_background": "light"
     },
     "output_type": "display_data"
    }
   ],
   "source": [
    "from PIL import Image\n",
    "\n",
    "BMU = np.zeros([2],dtype=np.int32)\n",
    "result_map = np.zeros([map_height,map_width,3],dtype=np.float32)\n",
    "\n",
    "i=0\n",
    "for pattern in patterns:\n",
    "    \n",
    "    pattern_ary = np.tile(pattern, (map_height, map_width, 1))\n",
    "    Eucli_MAP = np.linalg.norm(pattern_ary - MAP_final, axis=2)\n",
    "\n",
    "    # Get the best matching unit(BMU) which is the one with the smallest Euclidean distance\n",
    "    BMU = np.unravel_index(np.argmin(Eucli_MAP, axis=None), Eucli_MAP.shape)\n",
    "    \n",
    "    x = BMU[0]\n",
    "    y = BMU[1]\n",
    "    \n",
    "    if classes[i] == '1':\n",
    "        if result_map[x][y][0] <= 0.5:\n",
    "            result_map[x][y] += np.asarray([0.5,0,0])\n",
    "    elif classes[i] == '2':\n",
    "        if result_map[x][y][1] <= 0.5:\n",
    "            result_map[x][y] += np.asarray([0,0.5,0])\n",
    "    elif classes[i] == '3':\n",
    "        if result_map[x][y][2] <= 0.5:\n",
    "            result_map[x][y] += np.asarray([0,0,0.5])\n",
    "    i+=1\n",
    "result_map = np.flip(result_map,0)\n",
    "    \n",
    "#print result_map\n",
    "\n",
    "print(\"Red = 1\")\n",
    "print(\"Green = 2\")\n",
    "print(\"Blue = 3\")\n",
    "\n",
    "plt.imshow(result_map, interpolation='nearest')"
   ]
  },
  {
   "cell_type": "code",
   "execution_count": null,
   "metadata": {},
   "outputs": [],
   "source": []
  }
 ],
 "metadata": {
  "kernelspec": {
   "display_name": "Python 3",
   "language": "python",
   "name": "python3"
  },
  "language_info": {
   "codemirror_mode": {
    "name": "ipython",
    "version": 3
   },
   "file_extension": ".py",
   "mimetype": "text/x-python",
   "name": "python",
   "nbconvert_exporter": "python",
   "pygments_lexer": "ipython3",
   "version": "3.7.6"
  }
 },
 "nbformat": 4,
 "nbformat_minor": 4
}
